{
 "cells": [
  {
   "cell_type": "markdown",
   "metadata": {
    "local_metadata": {},
    "remote_metadata": {
     "tags": [
      "remove_cell"
     ]
    }
   },
   "source": [
    "# Topic extraction from the GEPRiS dataset and creation of an user-centric visualisation\n",
    "Author: Tim Korjakow        \n",
    "Summer term 2018      \n",
    "Freie Universität Berlin     \n",
    "Fachgebiet Human-Centered Computing"
   ]
  },
  {
   "cell_type": "markdown",
   "metadata": {
    "local_metadata": {},
    "remote_metadata": {
     "tags": [
      "remove_cell"
     ]
    }
   },
   "source": [
    "![Process graph](nlpflowchart.svg)"
   ]
  },
  {
   "cell_type": "code",
   "execution_count": 1,
   "metadata": {
    "scrolled": true
   },
   "outputs": [
    {
     "name": "stderr",
     "output_type": "stream",
     "text": [
      "unable to import 'smart_open.gcs', disabling that module\n"
     ]
    }
   ],
   "source": [
    "%load_ext autoreload\n",
    "%autoreload 2\n",
    "from sklearn.metrics import silhouette_samples\n",
    "from sklearn.pipeline import Pipeline\n",
    "import numpy as np\n",
    "import json\n",
    "from scipy.stats import entropy\n",
    "import bz2\n",
    "import csv\n",
    "from bokeh.palettes import d3\n",
    "\n",
    "from Preprocessing.preprocessing import Preprocessing\n",
    "from Embedding.embedding import Embedding\n",
    "from Topicextraction.topicextraction import TopicExtraction\n",
    "from Clustering.clustering import Clustering\n",
    "from Planereduction.planereduction import PlaneReduction\n",
    "from Linearization.linearization import mapToSpaceSampling, computeClusterTopography\n",
    "from Debug.debug import Debug\n",
    "from sklearn.manifold import MDS\n",
    "from scipy.spatial.distance import jensenshannon\n",
    "from sklearn.preprocessing import LabelEncoder\n",
    "\n",
    "\n",
    "# interactivity\n",
    "from ipywidgets import interact, interactive, fixed, interact_manual, IntSlider, Dropdown, FloatSlider, fixed\n",
    "import ipywidgets as widgets\n",
    "from IPython.display import display, Javascript, HTML\n",
    "import pickle\n"
   ]
  },
  {
   "cell_type": "code",
   "execution_count": 2,
   "metadata": {},
   "outputs": [],
   "source": [
    "#with bz2.open('../../../assets/data/train.csv.bz2', mode='rt') as f:\n",
    "#    csvreader = csv.reader(f)\n",
    "#    traindata = Preprocessing().fit_transform((row[1] for row in csvreader))\n",
    "#    f.seek(0)\n",
    "#    doc2author = {i:row[3:] for i, row in enumerate(csvreader)}"
   ]
  },
  {
   "cell_type": "code",
   "execution_count": 3,
   "metadata": {},
   "outputs": [],
   "source": [
    "#print(list(doc2author.items())[:10])"
   ]
  },
  {
   "cell_type": "code",
   "execution_count": 4,
   "metadata": {},
   "outputs": [
    {
     "name": "stdout",
     "output_type": "stream",
     "text": [
      "Finished loading\n"
     ]
    }
   ],
   "source": [
    "models = {\n",
    "#\t'Doc2Vec': Embedding(method='Doc2Vec', model_path='../../../assets/models/doc2vec/doc2vec.joblib'),\n",
    "#\t'TfIdf': Embedding(method='TfIdf', dict_path='../../../assets/models/dict/dict.joblib', model_path='../../../assets/models/tfidf/tfidf.joblib'),\n",
    "\t'ATM': Embedding(method='ATM', dict_path='../models/dict/dict.joblib', model_path='../models/atm/atm.joblib')\n",
    "}\n",
    "\n",
    "print('Finished loading')"
   ]
  },
  {
   "cell_type": "code",
   "execution_count": 7,
   "metadata": {},
   "outputs": [
    {
     "data": {
      "text/plain": [
       "(261, 100)"
      ]
     },
     "execution_count": 7,
     "metadata": {},
     "output_type": "execute_result"
    }
   ],
   "source": [
    "models[\"ATM\"].selector.transform(1).shape\n",
    "\n",
    "from sklearn.neighbors import NearestNeighbors"
   ]
  },
  {
   "cell_type": "code",
   "execution_count": 6,
   "metadata": {},
   "outputs": [
    {
     "name": "stdout",
     "output_type": "stream",
     "text": [
      "Words: Lästigkeit Produktentwicklungsphasen microphone Schädigungsmodelle Konstruktionswerkstoffen Substratmaterialien Wiedergabesystems Festkörperkontakt bspw auralization \n",
      "\n",
      "Words: nicotine schizophren Routineversorgung sleep attentional Horizontalzellen Herzfrequenzvariabilität Fovea Frühgeburt CASK \n",
      "\n",
      "Words: Werkstück Leichtbau Aluminiumlegierungen Drehzahl Kaltgasspritzen Prozesssicherheit Einsatzbedingungen Sprachverständlichkeit Audioqualität Fließspannung \n",
      "\n",
      "Words: Stählen Superlegierungen Duktilität Korrosionsbeständigkeit tribologische Legierungselemente Ermüdungseigenschaften Fügen Werkstoffverhalten Schädigungsentwicklung \n",
      "\n",
      "Words: Podozyten EGFR spermatogenesis Thrombozyten Fibrose ncRNAs pancreatic myeloid aureus glomerulären \n",
      "\n",
      "Words: Nitrosoverbindungen Vergiftung Ionischen Ruthenium syntheses itch Base Iridium Colletotrichum Einlagerung \n",
      "\n",
      "Words: Treg kardiale Astrozyten Schlaf Spermatogenese renalen Präeklampsie myokardialen Plazenta Niereninsuffizienz \n",
      "\n",
      "Words: peripher activation Transkription Rekrutierung Symptom körperlich systemische Sekretion dendritischen Replikation \n",
      "\n",
      "Words: binauralen Hirnregionen schizophrenia Remyelinisierung auditorischer Tinnitus addiction Magnetstimulation Störgeräuschen linksventrikulären \n",
      "\n",
      "Words: fMRT psychologisch Festigkeiten Emotion psychiatrisch Performanz neurobiologischen affektiv psychosozial hochfeste \n",
      "\n"
     ]
    }
   ],
   "source": [
    "for topic in models[\"ATM\"].selector.model.show_topics(num_topics=10):\n",
    "    #print('Label: ' + topic_labels[topic[0]])\n",
    "    words = ''\n",
    "    for word, prob in models[\"ATM\"].selector.model.show_topic(topic[0]):\n",
    "        words += word + ' '\n",
    "    print('Words: ' + words)\n",
    "    print()"
   ]
  },
  {
   "cell_type": "code",
   "execution_count": 7,
   "metadata": {},
   "outputs": [
    {
     "data": {
      "text/plain": [
       "{'Messsysteme': 285,\n",
       " 'Biomedizinische Systemtechnik': 3,\n",
       " 'Physische Geographie': 382,\n",
       " 'Forstwissenschaften': 231,\n",
       " 'Entwicklungsbiologie': 342,\n",
       " 'Städtebau/Stadtentwicklung, Raumplanung, Verkehrs- und Infrastrukturplanung, Landschaftsplanung': 142,\n",
       " 'Pathologie': 415,\n",
       " 'Dermatologie': 566,\n",
       " 'Hämatologie, Onkologie, Transfusionsmedizin': 802,\n",
       " 'Hals-Nasen-Ohrenheilkunde': 111,\n",
       " 'Strukturbiologie': 234,\n",
       " 'Optik, Quantenoptik und Physik der Atome, Moleküle und Plasmen': 1152,\n",
       " 'Molekulare Neurowissenschaft und Neurogenetik': 680,\n",
       " 'Ethnologie und Europäische Ethnologie': 492,\n",
       " 'Allgemeine Theoretische Chemie': 407,\n",
       " 'Thermodynamik und Kinetik von Werkstoffen': 215,\n",
       " 'Experimentelle Physik der kondensierten Materie': 2468,\n",
       " 'Mechanisches Verhalten von Konstruktionswerkstoffen': 110,\n",
       " 'Pädagogische Sozial- und Organisationsforschung': 11,\n",
       " 'Mechanik': 551,\n",
       " 'Zelluläre Neurowissenschaft': 661,\n",
       " 'Theoretische Physik der kondensierten Materie': 853,\n",
       " 'Pflanzenwissenschaften': 2618,\n",
       " 'Geodäsie, Photogrammetrie, Fernerkundung, Geoinformatik, Kartographie': 138,\n",
       " 'Produktionsorganisation und Betriebswissenschaften': 446,\n",
       " 'Elektrische Energieerzeugung, -übertragung, -verteilung und -anwendung': 277,\n",
       " 'Nephrologie': 407,\n",
       " 'Organismische Interaktionen und chemische Ökologie pflanzlicher Systeme': 172,\n",
       " 'Herz-, Thorax-, Gefäßchirurgie': 115,\n",
       " 'Public Health, medizinische Versorgungsforschung, Sozialmedizin': 106,\n",
       " 'Grundlagen der Biologie und Medizin': 5517,\n",
       " 'Unfallchirurgie und Orthopädie': 437,\n",
       " 'Elektrotechnik und Informationstechnik': 1627,\n",
       " 'Geophysik und Geodäsie': 902,\n",
       " 'Rechtswissenschaften': 765,\n",
       " 'Theater- und Medienwissenschaften': 263,\n",
       " 'Allgemeine und vergleichende Literaturwissenschaft; Kulturwissenschaft': 96,\n",
       " 'Molekulare und Zelluläre Neurologie, Neuropathologie': 240,\n",
       " 'Humangeographie': 405,\n",
       " 'Evolution, Anthropologie': 487,\n",
       " 'Ingenieurwissenschaften ': 15211,\n",
       " 'Toxikologie, Arbeitsmedizin und Rechtsmedizin': 46,\n",
       " 'Pneumologie, Klinische Infektiologie': 170,\n",
       " 'Energieverfahrenstechnik': 131,\n",
       " 'Entwicklungspsychologie und Pädagogische Psychologie': 314,\n",
       " 'Technische Thermodynamik': 309,\n",
       " 'Ökologie von Agrarlandschaften': 33,\n",
       " 'Optik, Quantenoptik, Physik der Atome, Moleküle und Plasmen': 1152,\n",
       " 'Festkörper- und Oberflächenchemie, Materialsynthese': 298,\n",
       " 'Immunologie': 1326,\n",
       " 'Theorie und Modellierung': 68,\n",
       " 'Polymermaterialien': 272,\n",
       " 'Biomaterialien': 177,\n",
       " 'Pflanzenbau und Agrartechnik': 181,\n",
       " 'Softwaretechnik und Programmiersprachen': 295,\n",
       " 'Organismische Neurobiologie': 174,\n",
       " 'Kunst-, Musik-, Theater- und Medienwissenschaften': 1126,\n",
       " 'Verfahrenstechnik, Technische Chemie': 1303,\n",
       " 'Architektur, Bau- und Konstruktionsgeschichte, Bauforschung, Ressourcenökonomie im Bauwesen': 140,\n",
       " 'Naturwissenschaften ': 23454,\n",
       " 'Mittelalterliche Geschichte': 456,\n",
       " 'Theologie': 699,\n",
       " 'Anatomie': 183,\n",
       " 'Allgemein- und Viszeralchirurgie': 332,\n",
       " 'Endokrinologie, Diabetologie': 304,\n",
       " 'Grundlagen von Pathogenese, Diagnostik, Therapie und Klinische Tiermedizin': 181,\n",
       " 'Klinische Neurowissenschaften III - Augenheilkunde': 298,\n",
       " 'Humangenetik': 390,\n",
       " 'Neuere und Neueste Geschichte (einschl. Europäische Geschichte der Neuzeit und Außereuropäische Geschichte)': 1443,\n",
       " 'Sprachwissenschaften': 1225,\n",
       " 'Angewandte Sprachwissenschaften, Experimentelle Linguistik, Computerlinguistik': 27,\n",
       " 'Psychologie': 2445,\n",
       " 'Physiologie': 567,\n",
       " 'Kinder- und Jugendmedizin': 554,\n",
       " 'Biologie des Verhaltens und der Sinne': 279,\n",
       " 'Genetik der Pflanzen': 188,\n",
       " 'Tierzucht, Tierhaltung und Tierhygiene': 229,\n",
       " 'Betriebswirtschaftslehre': 515,\n",
       " 'Historische Linguistik': 135,\n",
       " 'Politikwissenschaft': 737,\n",
       " 'Verbundwerkstoffe': 219,\n",
       " 'Virologie': 594,\n",
       " 'Allgemeine und Vergleichende Sprachwissenschaft, Typologie, Außereuropäische Sprachen': 656,\n",
       " 'Wirtschaftstheorie': 306,\n",
       " 'Theoretische Informatik': 782,\n",
       " 'Zoologie': 1847,\n",
       " 'Evolutionäre Zell- und Entwicklungsbiologie der Tiere': 203,\n",
       " 'Radioonkologie und Strahlenbiologie': 34,\n",
       " 'Agrar-, Forstwissenschaften und Tiermedizin': 2274,\n",
       " 'Zellbiologie': 1511,\n",
       " 'Materialwissenschaft': 1309,\n",
       " 'Biochemie und Biophysik der Pflanzen': 645,\n",
       " 'Statistische Physik, Weiche Materie, Biologische Physik, Nichtlineare Dynamik': 567,\n",
       " 'Frauenheilkunde und Geburtshilfe': 214,\n",
       " 'Konstruktion, Maschinenelemente, Produktentwicklung': 326,\n",
       " 'Literaturwissenschaft': 1400,\n",
       " 'Mikrosysteme': 215,\n",
       " 'Atmosphären-, Meeres- und Klimaforschung': 1244,\n",
       " 'Erziehungswissenschaft und Bildungsforschung': 812,\n",
       " 'Elektronische Halbleiter, Bauelemente und Schaltungen, Integrierte Systeme': 626,\n",
       " 'Biochemie und Physiologie der Tiere': 269,\n",
       " 'Theoretische Philosophie': 275,\n",
       " 'Biochemie': 1898,\n",
       " 'Grundlagen der Tiermedizin': 82,\n",
       " 'Gastroenterologie, Stoffwechsel': 796,\n",
       " 'Bildungssysteme und Bildungsinstitutionen': 191,\n",
       " 'Alte Kulturen': 1848,\n",
       " 'Alte Geschichte': 165,\n",
       " 'Physik der kondensierten Materie': 3321,\n",
       " 'Praktische Philosophie': 85,\n",
       " 'Bioinformatik und Theoretische Biologie': 160,\n",
       " 'Anorganische Molekülchemie - Synthese, Charakterisierung, Theorie und Modellierung': 874,\n",
       " 'Medizin': 10302,\n",
       " 'Ägyptische und Vorderasiatische Altertumswissenschaften': 465,\n",
       " 'Öffentliches Recht': 275,\n",
       " 'Neuere deutsche Literatur': 630,\n",
       " 'Wasserforschung': 798,\n",
       " 'Angewandte Mechanik, Statik und Dynamik': 202,\n",
       " 'Bauwesen und Architektur': 1261,\n",
       " 'Geotechnik, Wasserbau': 191,\n",
       " 'Allgemeine, Biologische und Mathematische Psychologie': 1056,\n",
       " 'Soziologische Theorie': 213,\n",
       " 'Geochemie, Mineralogie und Kristallographie': 1537,\n",
       " 'Teilchen, Kerne und Felder': 907,\n",
       " 'Physikalische und Theoretische Chemie': 1354,\n",
       " 'Strömungsmechanik': 983,\n",
       " 'Mathematik': 2713,\n",
       " 'Afrika-, Amerika- und Ozeanienbezogene Wissenschaften': 15,\n",
       " 'Polymerforschung': 983,\n",
       " 'Herstellung und Eigenschaften von Funktionsmaterialien': 622,\n",
       " 'Klinische Neurowissenschaften II - Psychiatrie, Psychotherapie, Kinder- und Jugendspychiatrie': 308,\n",
       " 'Sozialwissenschaften': 2061,\n",
       " 'Keramische und metallische Sinterwerkstoffe': 265,\n",
       " 'Ökologie der Tiere, Biodiversität und Ökosystemforschung': 341,\n",
       " 'Publizistik und Kommunikationswissenschaft': 191,\n",
       " 'Betriebs-, Kommunikations-, Datenbank- und verteilte Systeme': 452,\n",
       " 'Systematik und Morphologie der Tiere': 268,\n",
       " 'Strömungs- und Kolbenmaschinen': 168,\n",
       " 'Chemische Festkörper- und Oberflächenforschung': 794,\n",
       " 'Kardiologie, Angiologie': 567,\n",
       " 'Pharmazie': 344,\n",
       " 'Allgemeine und Historische Pädagogik': 154,\n",
       " 'Mechanik und Konstruktiver Maschinenbau': 1169,\n",
       " 'Ur- und Umformtechnik': 602,\n",
       " 'Analytik, Methodenentwicklung (Chemie)': 604,\n",
       " 'Biologische und molekulare Psychiatrie': 176,\n",
       " 'Sicherheit und Verlässlichkeit': 4,\n",
       " 'Musikwissenschaften': 315,\n",
       " 'Statistik und Ökonometrie': 146,\n",
       " 'Geographie': 787,\n",
       " 'Geschichte der Philosophie': 284,\n",
       " 'Werkzeugmaschinen und Produktionsautomatisierung': 10,\n",
       " 'Füge-, Montage- und Trenntechnik': 388,\n",
       " 'Geistes- und Sozialwissenschaften ': 18116,\n",
       " 'Asienbezogene Wissenschaften': 309,\n",
       " 'Rechnerarchitekturen und eingebettete Systeme': 265,\n",
       " 'Kognitive Neurowissenschaft': 344,\n",
       " 'Strafrecht, Strafprozessrecht': 85,\n",
       " 'Wirtschaftspolitik und Finanzwissenschaften': 299,\n",
       " 'Kriminologie': 63,\n",
       " 'Empirische Sozialforschung': 920,\n",
       " 'Astrophysik und Astronomie': 1055,\n",
       " 'Biologische Chemie und Lebensmittelchemie': 460,\n",
       " 'Leichtbau, Textiltechnik': 220,\n",
       " 'Zahnheilkunde; Mund-, Kiefer- und Gesichtschirurgie': 216,\n",
       " 'Systemtechnik': 1152,\n",
       " 'Hydrogeologie, Hydrologie, Limnologie, Siedlungswasserwirtschaft, Wasserchemie, Integrierte Wasser-Ressourcen Bewirtschaftung': 798,\n",
       " 'Baustoffwissenschaften, Bauchemie, Bauphysik': 275,\n",
       " 'Europäische und Amerikanische Literaturen': 466,\n",
       " 'Biomedizinische Technik und Medizinische Physik': 401,\n",
       " 'Geologie und Paläontologie': 1999,\n",
       " 'Organische und Anorganische Geochemie, Biogeochemie, Mineralogie, Petrologie, Kristallographie, Lagerstättenkunde': 1537,\n",
       " 'Lebenswissenschaften ': 30130,\n",
       " 'Biophysik': 876,\n",
       " 'Metallurgische und thermische Prozesse und thermomechanische Behandlung von Werkstoffen': 532,\n",
       " 'Islamwissenschaften, Arabistik, Semitistik': 278,\n",
       " 'Pharmakologie': 755,\n",
       " 'Klinische Neurowissenschaften I - Neurologie, Neurochirurgie, Neuroradiologie': 540,\n",
       " 'Konstruktiver Ingenieurbau, Bauinformatik und Baubetrieb': 311,\n",
       " 'Massiv parallele und datenintensive Systeme': 8,\n",
       " 'Klinische Chemie und Pathobiochemie': 279,\n",
       " 'Beschichtungs- und Oberflächentechnik': 101,\n",
       " 'Physik und Chemie der Atmosphäre': 693,\n",
       " 'Arbeitswissenschaft, Ergonomie, Mensch-Maschine-Systeme': 109,\n",
       " 'Ernährungswissenschaften': 109,\n",
       " 'Spanende Fertigungstechnik': 678,\n",
       " 'Strukturierung und Funktionalisierung': 45,\n",
       " 'Allgemeine Genetik': 313,\n",
       " 'Werkstofftechnik': 1227,\n",
       " 'Präparative und Physikalische Chemie von Polymeren': 553,\n",
       " 'Pflanzenphysiologie': 456,\n",
       " 'Biologische und Biomimetische Chemie': 383,\n",
       " 'Physik, Chemie und Biologie des Meeres': 551,\n",
       " 'Entwicklungsneurobiologie': 174,\n",
       " 'Wissenschaftsgeschichte': 375,\n",
       " 'Systemische Neurowissenschaft, Computational Neuroscience, Verhalten': 359,\n",
       " 'Kern- und Elementarteilchenphysik, Quantenmechanik, Relativitätstheorie, Felder': 907,\n",
       " 'Einzelsprachwissenschaften': 407,\n",
       " 'Radiologie und Nuklearmedizin': 360,\n",
       " 'Produktionstechnik': 2270,\n",
       " 'Physikalische Chemie von Festkörpern und Oberflächen, Materialcharakterisierung': 428,\n",
       " 'Physik des Erdkörpers': 764,\n",
       " 'Pflanzenzüchtung': 160,\n",
       " 'Nachrichten- und Hochfrequenztechnik, Kommunikationstechnik und -netze, Theoretische Elektrotechnik': 724,\n",
       " 'Automatisierungstechnik, Regelungssysteme, Robotik, Mechatronik, Cyber Physical Systems': 451,\n",
       " 'Medizinische Mikrobiologie, Parasitologie, medizinische Mykologie und Hygiene, Molekulare Infektionsbiologie': 761,\n",
       " 'Rheumatologie, Klinische Immunologie, Allergologie': 211,\n",
       " 'Informatik': 2302,\n",
       " 'Organische Molekülchemie - Synthese, Charakterisierung, Theorie und Modellierung': 1403,\n",
       " 'Klassische Philologie': 183,\n",
       " 'Evangelische Theologie': 425,\n",
       " 'Anästhesiologie': 238,\n",
       " 'Stoffwechselphysiologie, Biochemie und Genetik der Mikroorganismen': 739,\n",
       " 'Kunstgeschichte': 548,\n",
       " 'Neurowissenschaft': 3954,\n",
       " 'Bioverfahrenstechnik': 175,\n",
       " 'Verkehrs- und Transportsysteme, Logistik, Intelligenter und automatisierter Verkehr': 89,\n",
       " 'Geschichtswissenschaften': 2473,\n",
       " 'Privatrecht': 198,\n",
       " 'Mechanische Verfahrenstechnik': 376,\n",
       " 'Wirtschafts- und Sozialgeschichte': 117,\n",
       " 'Pflanzenernährung': 127,\n",
       " 'Kunststofftechnik': 146,\n",
       " 'Phytomedizin': 188,\n",
       " 'Akustik': 72,\n",
       " 'Interaktive und intelligente Systeme, Bild- und Sprachverarbeitung, Computergraphik und Visualisierung': 480,\n",
       " 'Experimentelle und Theoretische Polymerphysik': 158,\n",
       " 'Mikrostrukturelle mechanische Eigenschaften von Materialien': 250,\n",
       " 'Bodenwissenschaften': 558,\n",
       " 'Lebensmittelchemie': 77,\n",
       " 'Mikrobiologie, Virologie und Immunologie': 3618,\n",
       " 'Technische Chemie': 160,\n",
       " 'Agrarökonomie und -soziologie': 184,\n",
       " 'Katholische Theologie': 274,\n",
       " 'Epidemiologie, Medizinische Biometrie, Medizinische Informatik': 286,\n",
       " 'Biogerontologie und Geriatrie': 3,\n",
       " 'Differentielle Psychologie, Klinische Psychologie, Medizinische Psychologie, Methoden': 674,\n",
       " 'Evolution und Systematik der Pflanzen und Pilze': 277,\n",
       " 'Reproduktionsmedizin/ -biologie': 59,\n",
       " 'Zell- und Entwicklungsbiologie der Pflanzen': 385,\n",
       " 'Informationssysteme, Prozess- und Wissensmanagement': 16,\n",
       " 'Religionswissenschaft und Judaistik': 141,\n",
       " 'Pflanzenökologie und Ökosystemforschung': 495,\n",
       " 'Wirtschaftswissenschaften': 1383,\n",
       " 'Frühneuzeitliche Geschichte': 199,\n",
       " 'Tierernährung und Tierernährungsphysiologie': 120,\n",
       " 'Sozial- und Kulturanthropologie, Außereuropäische Kulturen, Judaistik und Religionswissenschaft': 1235,\n",
       " 'Philosophie': 644,\n",
       " 'Urologie': 108,\n",
       " 'Mikrobielle Ökologie und Angewandte Mikrobiologie': 198,\n",
       " 'Molekülchemie': 2277,\n",
       " 'Physikalische Chemie von Molekülen, Flüssigkeiten und Grenzflächen - Spektroskopie, Kinetik': 947,\n",
       " 'Allgemeines und fachbezogenes Lehren und Lernen': 456,\n",
       " 'Geologie, Ingenieurgeologie, Paläontologie': 1999,\n",
       " 'Ur- und Frühgeschichte (weltweit)': 712,\n",
       " 'Ältere deutsche Literatur': 208,\n",
       " 'Chemische und Thermische Verfahrenstechnik': 592,\n",
       " 'Klassische Archäologie': 323,\n",
       " 'Sozialpsychologie und Arbeits- und Organisationspsychologie': 401,\n",
       " 'Wärmeenergietechnik, Thermische Maschinen, Strömungsmechanik': 1591,\n",
       " 'Grundlagen des Rechts und der Rechtswissenschaft': 144}"
      ]
     },
     "execution_count": 7,
     "metadata": {},
     "output_type": "execute_result"
    }
   ],
   "source": [
    "{subject:len(docs) for subject, docs in models[\"ATM\"].selector.model.author2doc.items()}"
   ]
  },
  {
   "cell_type": "code",
   "execution_count": 12,
   "metadata": {
    "scrolled": true
   },
   "outputs": [
    {
     "name": "stdout",
     "output_type": "stream",
     "text": [
      "[Pipeline] ......... (step 1 of 3) Processing Embedding, total=   0.0s\n",
      "[Pipeline] ..... (step 2 of 3) Processing EmbeddingData, total=   0.0s\n",
      "[Pipeline] .... (step 3 of 3) Processing PlaneReduction, total=   3.4s\n",
      "86911\n"
     ]
    }
   ],
   "source": [
    "\n",
    "hellinger = lambda x,y : np.linalg.norm(np.sqrt(x)-np.sqrt(y))/np.sqrt(2)\n",
    "pipe = Pipeline([('Embedding', models['ATM']),\n",
    "                 ('EmbeddingData', Debug()),\n",
    "                 ('PlaneReduction', PlaneReduction(2, method='TSNE', perplexity=6, metric=jensenshannon))], verbose=True)\n",
    "\n",
    "tfs_plane, labels = pipe.fit_transform(np.ones((10,10)))\n",
    "\n",
    "#tfs_reduced = pipe.named_steps.TopicExtractionData.data\n",
    "#print(tfs_reduced.shape)\n",
    "\n",
    "# compute linearization\n",
    "tfs_mapped = mapToSpaceSampling(tfs_plane)\n",
    "\n",
    "# compute cluster topography\n",
    "uncertainty = entropy(np.array(pipe.named_steps.EmbeddingData.data[0]).T + 0.000001)\n",
    "\n",
    "print(len(models[\"ATM\"].selector.model.doc2author.items()))\n",
    "interpolated_topography = computeClusterTopography(tfs_mapped, uncertainty, 600, 600, 'cubic')\n",
    "dump = {\n",
    "            'project_data': [{'mappoint':mappoint, 'embpoint':embpoint, 'cluster':cluster, 'entropy': entropy, 'title':title, 'doc_count':doc_count} for mappoint, embpoint, cluster, entropy, title, doc_count in zip(\n",
    "                tfs_mapped.tolist(),\n",
    "                tfs_plane.tolist(),\n",
    "                LabelEncoder().fit_transform([x[2] for x in models[\"ATM\"].selector.model.doc2author.values()]).tolist(),\n",
    "                uncertainty.tolist(),\n",
    "                list(models[\"ATM\"].selector.model.id2author.values()),\n",
    "                [len(models[\"ATM\"].selector.model.author2doc[author]) for author in models[\"ATM\"].selector.model.id2author.values()]\n",
    "            )],\n",
    "            'cluster_data': {\n",
    "                'cluster_colour': d3['Category20'][4]\n",
    "            },\n",
    "            'cluster_topography': np.flip(interpolated_topography.T, axis=0).flatten().tolist(),\n",
    "            'topography_width': 600,\n",
    "            'topography_height': 600\n",
    "        }"
   ]
  },
  {
   "cell_type": "code",
   "execution_count": 13,
   "metadata": {},
   "outputs": [],
   "source": [
    "def draw_scatter(data, width=600, height=600, viz='linearized'):\n",
    "    display(Javascript(\"\"\"\n",
    "        (function(element){\n",
    "            require(['scatter'], function(scatter) {\n",
    "                scatter(element.get(0), %s, %d, %d, %s);\n",
    "            });\n",
    "        })(element);\n",
    "    \"\"\" % (json.dumps(data), width, height, json.dumps(viz))))"
   ]
  },
  {
   "cell_type": "code",
   "execution_count": 14,
   "metadata": {
    "local_metadata": {},
    "remote_metadata": {
     "tags": [
      "remove_cell"
     ]
    }
   },
   "outputs": [],
   "source": [
    "def visualize(dump=None):\n",
    "    # viz dimensions\n",
    "    width = 600\n",
    "    height = 600\n",
    "\n",
    "    display(HTML(filename=\"scatter.css.html\"))\n",
    "    display(Javascript(\"require.config({paths: {d3: 'https://d3js.org/d3.v5.min'}});\"))\n",
    "    display(Javascript(filename=\"scatter.js\"))\n",
    "    draw_scatter(dump, width, height)\n",
    "    with open('./dump.json', 'w+') as f:\n",
    "        json.dump(dump, f)"
   ]
  },
  {
   "cell_type": "code",
   "execution_count": 15,
   "metadata": {
    "local_metadata": {
     "scrolled": false
    },
    "remote_metadata": {
     "scrolled": false,
     "tags": [
      "remove_cell"
     ]
    },
    "scrolled": false
   },
   "outputs": [
    {
     "data": {
      "application/vnd.jupyter.widget-view+json": {
       "model_id": "3fe7531b20d84a5098b5dc1160ef1d7a",
       "version_major": 2,
       "version_minor": 0
      },
      "text/plain": [
       "interactive(children=(Output(),), _dom_classes=('widget-interact',))"
      ]
     },
     "metadata": {},
     "output_type": "display_data"
    }
   ],
   "source": [
    "w = interactive(visualize, dump=fixed(dump))\n",
    "display(w)\n"
   ]
  },
  {
   "cell_type": "code",
   "execution_count": null,
   "metadata": {},
   "outputs": [],
   "source": []
  },
  {
   "cell_type": "code",
   "execution_count": null,
   "metadata": {},
   "outputs": [],
   "source": []
  }
 ],
 "metadata": {
  "celltoolbar": "Tags",
  "kernelspec": {
   "display_name": "Python 3",
   "language": "python",
   "name": "python3"
  },
  "language_info": {
   "codemirror_mode": {
    "name": "ipython",
    "version": 3
   },
   "file_extension": ".py",
   "mimetype": "text/x-python",
   "name": "python",
   "nbconvert_exporter": "python",
   "pygments_lexer": "ipython3",
   "version": "3.8.2"
  }
 },
 "nbformat": 4,
 "nbformat_minor": 2
}
